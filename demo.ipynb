{
 "cells": [
  {
   "cell_type": "markdown",
   "metadata": {},
   "source": [
    "# 1. load model"
   ]
  },
  {
   "cell_type": "code",
   "execution_count": 1,
   "metadata": {},
   "outputs": [
    {
     "name": "stderr",
     "output_type": "stream",
     "text": [
      "/home/chengxin/chengxin/anaconda3/envs/stableaudio/lib/python3.8/site-packages/tqdm/auto.py:21: TqdmWarning: IProgress not found. Please update jupyter and ipywidgets. See https://ipywidgets.readthedocs.io/en/stable/user_install.html\n",
      "  from .autonotebook import tqdm as notebook_tqdm\n"
     ]
    },
    {
     "name": "stdout",
     "output_type": "stream",
     "text": [
      "<module 'flash_attn_2_cuda' from '/home/chengxin/chengxin/anaconda3/envs/stableaudio/lib/python3.8/site-packages/flash_attn_2_cuda.cpython-38-x86_64-linux-gnu.so'>\n"
     ]
    },
    {
     "data": {
      "text/plain": [
       "(1323000, 44100, 30.0, 30, 8, 'stereo')"
      ]
     },
     "execution_count": 1,
     "metadata": {},
     "output_type": "execute_result"
    }
   ],
   "source": [
    "import json\n",
    "import pytorch_lightning as pl\n",
    "from einops import rearrange\n",
    "import torch\n",
    "import torchaudio\n",
    "from torch.utils.data import DataLoader\n",
    "import safetensors\n",
    "from safetensors.torch import load_file\n",
    "import random\n",
    "\n",
    "import shutil\n",
    "from collections import OrderedDict\n",
    "from datetime import datetime\n",
    "import os\n",
    "import torch.nn.functional as F\n",
    "\n",
    "from stable_audio_tools import create_model_from_config, replace_audio, save_audio\n",
    "from stable_audio_tools.data.dataset import VideoFeatDataset, VideoFeatDataset_VL, collation_fn\n",
    "from stable_audio_tools.training.training_wrapper import DiffusionCondTrainingWrapper\n",
    "from stable_audio_tools.inference.generation import generate_diffusion_cond, generate_diffusion_cond_from_path\n",
    "\n",
    "\n",
    "# model_config_file = './stable_audio_tools/configs/model_config_ss30.json'\n",
    "model_config_file = './stable_audio_tools/configs/model_config_vl30.json'\n",
    "model_weight = './weight/epoch=60-step=2818.safetensors'\n",
    "\n",
    "\n",
    "with open(model_config_file) as f:\n",
    "    model_config = json.load(f)\n",
    "    sample_rate = model_config[\"sample_rate\"]\n",
    "    sample_size = model_config[\"sample_size\"]\n",
    "    fps = model_config[\"fps\"]\n",
    "    variable_length = model_config[\"variable_length\"]\n",
    "    force_channels = \"stereo\" if model_config[\"audio_channels\"] == 2 else \"mono\"\n",
    "\n",
    "\n",
    "state_dict = load_file(model_weight)\n",
    "model = create_model_from_config(model_config)\n",
    "model.load_state_dict(state_dict, strict=True)\n",
    "\n",
    "sample_size, sample_rate, sample_size/sample_rate, variable_length, fps, force_channels"
   ]
  },
  {
   "cell_type": "markdown",
   "metadata": {},
   "source": [
    "# 2. Sample"
   ]
  },
  {
   "cell_type": "code",
   "execution_count": 2,
   "metadata": {},
   "outputs": [
    {
     "name": "stdout",
     "output_type": "stream",
     "text": [
      "346729609\n",
      "Extracting features from video:./asset/demo_video.mp4\n"
     ]
    },
    {
     "name": "stderr",
     "output_type": "stream",
     "text": [
      "100%|██████████| 150/150 [00:03<00:00, 48.96it/s]\n"
     ]
    },
    {
     "data": {
      "text/plain": [
       "tensor([[[-0.0644,  0.0689, -0.0363,  ...,  0.0074,  0.0036, -0.0104],\n",
       "         [-0.0644,  0.0689, -0.0363,  ...,  0.0078,  0.0041, -0.0100]]],\n",
       "       device='cuda:0')"
      ]
     },
     "execution_count": 2,
     "metadata": {},
     "output_type": "execute_result"
    }
   ],
   "source": [
    "from moviepy.editor import VideoFileClip\n",
    "\n",
    "device = 0\n",
    "conditioning = {\n",
    "    'feature': ['./asset/demo_video.mp4']\n",
    "}\n",
    "video_clip = VideoFileClip(conditioning['feature'][0])\n",
    "seconds_total = int(video_clip.duration)\n",
    "seconds_total = 10\n",
    "\n",
    "output = generate_diffusion_cond(\n",
    "    model = model.to(device),\n",
    "    steps=150,\n",
    "    cfg_scale=7,\n",
    "    conditioning=conditioning,\n",
    "    sample_size=int(sample_rate*seconds_total),\n",
    "    batch_size=len(conditioning['feature']),\n",
    "    sigma_min=0.3,\n",
    "    sigma_max=500,\n",
    "    sampler_type=\"dpmpp-3m-sde\",\n",
    "    device=device\n",
    ")\n",
    "\n",
    "audio_path = \"./asset/demo_audio.wav\"\n",
    "waveform = output[0:1,...,:int(seconds_total*sample_rate)]\n",
    "# print(output.shape, output[idx:idx+1].shape, waveform.shape)\n",
    "save_audio(waveform, audio_path, sample_rate)\n",
    "waveform"
   ]
  }
 ],
 "metadata": {
  "kernelspec": {
   "display_name": "stableaudio",
   "language": "python",
   "name": "python3"
  },
  "language_info": {
   "codemirror_mode": {
    "name": "ipython",
    "version": 3
   },
   "file_extension": ".py",
   "mimetype": "text/x-python",
   "name": "python",
   "nbconvert_exporter": "python",
   "pygments_lexer": "ipython3",
   "version": "3.8.10"
  }
 },
 "nbformat": 4,
 "nbformat_minor": 2
}
